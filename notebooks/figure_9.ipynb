{
 "cells": [
  {
   "cell_type": "code",
   "execution_count": null,
   "id": "2658512f-86cb-4b75-985f-70991fca0589",
   "metadata": {},
   "outputs": [],
   "source": [
    "import numpy as np\n",
    "import pandas as pd\n",
    "import seaborn as sns\n",
    "import matplotlib.pyplot as plt\n",
    "\n",
    "# Read in data file using pandas\n",
    "df = pd.read_csv(\"central_ok_mds_env_FINAL.csv\")\n",
    "\n",
    "# Create baseplot\n",
    "plt.rcParams['figure.figsize'] = 16, 3\n",
    "\n",
    "# Set custom color palette\n",
    "palette = ['#ADD8E6', '#FF0000']\n",
    "sns.set_palette(palette)\n",
    "\n",
    "# Plot CAPE data divided by label\n",
    "ax = plt.subplot(1, 5, 1)\n",
    "ax.set_title('CAPE', fontsize = 11)\n",
    "ax.set_xlabel('cape (J/kg)')\n",
    "ax.set_ylabel('Number of Products')\n",
    "sns.histplot(data = df, x = 'cape', hue = 'label', legend = False)\n",
    "\n",
    "# Plot CIN data divided by label\n",
    "ax = plt.subplot(1, 5, 2)\n",
    "ax.set_title('CIN', fontsize = 11)\n",
    "ax.set_xlabel('cin (J/kg)')\n",
    "ax.set_ylabel('Number of Products')\n",
    "sns.histplot(data = df, x = 'cin', hue = 'label', legend = False)\n",
    "\n",
    "# Plot 0-3 km SRH data divided by label\n",
    "ax = plt.subplot(1, 5, 3)\n",
    "ax.set_title('0-3 km Storm Relative Helicity', fontsize = 10)\n",
    "ax.set_xlabel('srh0_3 (m\\u00b2/s\\u00b2)')\n",
    "ax.set_ylabel('Number of Products')\n",
    "sns.histplot(data = df, x = 'srh0_3', hue = 'label', legend = False)\n",
    "\n",
    "# Plot 0-1 km SRH data divided by label\n",
    "ax = plt.subplot(1, 5, 4)\n",
    "ax.set_title('0-1 km Storm Relative Helicity', fontsize = 10)\n",
    "ax.set_xlabel('srh0_1 (m\\u00b2/s\\u00b2)')\n",
    "ax.set_ylabel('Number of Products')\n",
    "sns.histplot(data = df, x = 'srh0_1', hue = 'label', legend = False)\n",
    "ax.legend(loc='upper left', bbox_to_anchor=(1.05, 1), labels=['Watch', 'MD'])\n",
    "\n",
    "plt.tight_layout()\n",
    "plt.savefig('figure_9.jpg')"
   ]
  }
 ],
 "metadata": {
  "kernelspec": {
   "display_name": "Python [conda env:pyEAE]",
   "language": "python",
   "name": "conda-env-pyEAE-py"
  },
  "language_info": {
   "codemirror_mode": {
    "name": "ipython",
    "version": 3
   },
   "file_extension": ".py",
   "mimetype": "text/x-python",
   "name": "python",
   "nbconvert_exporter": "python",
   "pygments_lexer": "ipython3",
   "version": "3.9.13"
  }
 },
 "nbformat": 4,
 "nbformat_minor": 5
}
