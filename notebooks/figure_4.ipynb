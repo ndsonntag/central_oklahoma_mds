{
 "cells": [
  {
   "cell_type": "code",
   "execution_count": null,
   "id": "2f313f08-440f-4f74-bf56-806003e5a51b",
   "metadata": {},
   "outputs": [],
   "source": [
    "import numpy as np\n",
    "import pandas as pd\n",
    "import seaborn as sns\n",
    "import matplotlib.pyplot as plt\n",
    "\n",
    "# Read in data file using pandas\n",
    "df = pd.read_csv(\"central_ok_mds_env_FINAL.csv\")\n",
    "\n",
    "# Plot baseplot\n",
    "plt.rcParams['figure.figsize'] = 15, 3\n",
    "\n",
    "# Plot 10-m u-component wind data\n",
    "ax = plt.subplot(1, 5, 1)\n",
    "ax.set_title('(a) U-Component of 10-m Wind', fontsize = 9)\n",
    "sns.boxplot(data = df, y = 'u10', color = '#a0a0a0')\n",
    "ax.set_ylabel('u10 (m/s)')\n",
    "\n",
    "# Plot 10-m v-component wind data\n",
    "ax = plt.subplot(1, 5, 2)\n",
    "ax.set_title('(b) V-Component of 10-m Wind', fontsize = 9)\n",
    "sns.boxplot(data = df, y = 'v10', color = '#a0a0a0')\n",
    "ax.set_ylabel('v10 (m/s)')\n",
    "\n",
    "# Plot 10-m wind speed data\n",
    "ax = plt.subplot(1, 5, 3)\n",
    "ax.set_title('(c) 10-m Wind Speed', fontsize = 11)\n",
    "sns.boxplot(data = df, y = 'uv10', color = '#a0a0a0')\n",
    "ax.set_ylabel('uv10 (m/s)')\n",
    "\n",
    "# Plot lifted condensation level data\n",
    "ax = plt.subplot(1, 5, 4)\n",
    "ax.set_title('(d) Lifted Condensation Level', fontsize = 10)\n",
    "sns.boxplot(data = df, y = 'lcl', color = '#a0a0a0')\n",
    "ax.set_ylabel('lcl (hPa)')\n",
    "\n",
    "# Plot 0-6 km bulk shear data\n",
    "ax = plt.subplot(1, 5, 5)\n",
    "ax.set_title('(e) 0-6 km Bulk Shear', fontsize = 11)\n",
    "sns.boxplot(data = df, y = 'shr0_6', color = '#a0a0a0')\n",
    "ax.set_ylabel('shr0_6 (1/s)')\n",
    "\n",
    "plt.tight_layout()\n",
    "plt.savefig('figure_4.jpg')"
   ]
  }
 ],
 "metadata": {
  "kernelspec": {
   "display_name": "Python [conda env:pyEAE]",
   "language": "python",
   "name": "conda-env-pyEAE-py"
  },
  "language_info": {
   "codemirror_mode": {
    "name": "ipython",
    "version": 3
   },
   "file_extension": ".py",
   "mimetype": "text/x-python",
   "name": "python",
   "nbconvert_exporter": "python",
   "pygments_lexer": "ipython3",
   "version": "3.9.13"
  }
 },
 "nbformat": 4,
 "nbformat_minor": 5
}
