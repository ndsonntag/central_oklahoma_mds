{
 "cells": [
  {
   "cell_type": "code",
   "execution_count": null,
   "id": "2f313f08-440f-4f74-bf56-806003e5a51b",
   "metadata": {},
   "outputs": [],
   "source": [
    "import numpy as np\n",
    "import pandas as pd\n",
    "import seaborn as sns\n",
    "import matplotlib.pyplot as plt\n",
    "\n",
    "# Read in data file using pandas\n",
    "df = pd.read_csv(\"central_ok_mds_env_FINAL.csv\")\n",
    "\n",
    "# Plot baseplot\n",
    "plt.rcParams['figure.figsize'] = 15, 3\n",
    "\n",
    "# Plot CAPE data\n",
    "ax = plt.subplot(1, 5, 1)\n",
    "ax.set_title('(a) CAPE', fontsize = 11)\n",
    "sns.boxplot(data = df, y = 'cape', color = '#a0a0a0')\n",
    "ax.set_ylabel('cape (J/kg)')\n",
    "\n",
    "# Plot CIN data\n",
    "ax = plt.subplot(1, 5, 2)\n",
    "ax.set_title('(b) CIN', fontsize = 11)\n",
    "sns.boxplot(data = df, y = 'cin', color = '#a0a0a0')\n",
    "ax.set_ylabel('cin (J/kg)')\n",
    "\n",
    "# Plot 0-3 km SRH data\n",
    "ax = plt.subplot(1, 5, 3)\n",
    "ax.set_title('(c) 0-3 km Storm Relative Helicity', fontsize = 9)\n",
    "sns.boxplot(data = df, y = 'srh0_3', color = '#a0a0a0')\n",
    "ax.set_ylabel('srh0_3 (m\\u00b2/s\\u00b2)')\n",
    "\n",
    "# Plot 0-1 km SRH data\n",
    "ax = plt.subplot(1, 5, 4)\n",
    "ax.set_title('(d) 0-1 km Storm Relative Helicity', fontsize = 9)\n",
    "sns.boxplot(data = df, y = 'srh0_1', color = '#a0a0a0')\n",
    "ax.set_ylabel('srh0_1 (m\\u00b2/s\\u00b2)')\n",
    "\n",
    "plt.tight_layout()\n",
    "plt.savefig('figure_5.jpg')"
   ]
  }
 ],
 "metadata": {
  "kernelspec": {
   "display_name": "Python [conda env:pyEAE]",
   "language": "python",
   "name": "conda-env-pyEAE-py"
  },
  "language_info": {
   "codemirror_mode": {
    "name": "ipython",
    "version": 3
   },
   "file_extension": ".py",
   "mimetype": "text/x-python",
   "name": "python",
   "nbconvert_exporter": "python",
   "pygments_lexer": "ipython3",
   "version": "3.9.13"
  }
 },
 "nbformat": 4,
 "nbformat_minor": 5
}
