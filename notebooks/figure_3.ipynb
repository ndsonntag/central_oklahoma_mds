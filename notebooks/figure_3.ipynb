{
 "cells": [
  {
   "cell_type": "code",
   "execution_count": null,
   "id": "d3ca0c88-7a35-4187-a8eb-b4a2cfd7ade4",
   "metadata": {},
   "outputs": [],
   "source": [
    "import numpy as np\n",
    "import pandas as pd\n",
    "import seaborn as sns\n",
    "import matplotlib.pyplot as plt\n",
    "\n",
    "# Read in data file using pandas\n",
    "df = pd.read_csv(\"central_ok_mds_env_FINAL.csv\")\n",
    "\n",
    "# Plot baseplot\n",
    "plt.rcParams['figure.figsize'] = 15, 3\n",
    "\n",
    "# Plot mslp data\n",
    "ax = plt.subplot(1, 5, 1)\n",
    "ax.set_title('(a) Mean Sea Level Pressure', fontsize = 10)\n",
    "sns.boxplot(data = df, y = 'mslp', color = '#a0a0a0')\n",
    "ax.set_ylabel('mslp (hPa)')\n",
    "\n",
    "# Plot 2-m temperature data\n",
    "ax = plt.subplot(1, 5, 2)\n",
    "ax.set_title('(b) 2-m Temperature', fontsize = 11)\n",
    "sns.boxplot(data = df, y = 't2m', color = '#a0a0a0')\n",
    "ax.set_ylabel('t2m (\\u00b0C)')\n",
    "\n",
    "# Plot 2-m specific humidity data\n",
    "ax = plt.subplot(1, 5, 3)\n",
    "ax.set_title('(c) 2-m Specific Humidity', fontsize = 10)\n",
    "sns.boxplot(data = df, y = 'q2m', color = '#a0a0a0')\n",
    "ax.set_ylabel('q2m (g/kg)')\n",
    "\n",
    "# Plot 2-m relative humidity data\n",
    "ax = plt.subplot(1, 5, 4)\n",
    "ax.set_title('(d) 2-m Relative Humidity', fontsize = 10)\n",
    "sns.boxplot(data = df, y = 'rh2m', color = '#a0a0a0')\n",
    "ax.set_ylabel('rh2m (%)')\n",
    "\n",
    "# Plot pwat data\n",
    "ax = plt.subplot(1, 5, 5)\n",
    "ax.set_title('(e) Precipitable Water', fontsize = 10)\n",
    "sns.boxplot(data = df, y = 'pwat', color = '#a0a0a0')\n",
    "ax.set_ylabel('pwat (kg/m\\u00b2)')\n",
    "\n",
    "plt.tight_layout()\n",
    "plt.savefig('figure_3.jpg')"
   ]
  }
 ],
 "metadata": {
  "kernelspec": {
   "display_name": "Python [conda env:pyEAE]",
   "language": "python",
   "name": "conda-env-pyEAE-py"
  },
  "language_info": {
   "codemirror_mode": {
    "name": "ipython",
    "version": 3
   },
   "file_extension": ".py",
   "mimetype": "text/x-python",
   "name": "python",
   "nbconvert_exporter": "python",
   "pygments_lexer": "ipython3",
   "version": "3.9.13"
  }
 },
 "nbformat": 4,
 "nbformat_minor": 5
}
