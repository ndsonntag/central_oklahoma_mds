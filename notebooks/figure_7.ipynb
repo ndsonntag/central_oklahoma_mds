{
 "cells": [
  {
   "cell_type": "code",
   "execution_count": null,
   "id": "2658512f-86cb-4b75-985f-70991fca0589",
   "metadata": {},
   "outputs": [],
   "source": [
    "import numpy as np\n",
    "import pandas as pd\n",
    "import seaborn as sns\n",
    "import matplotlib.pyplot as plt\n",
    "\n",
    "# Read in data file using pandas\n",
    "df = pd.read_csv(\"central_ok_mds_env_FINAL.csv\")\n",
    "\n",
    "# Create baseplot\n",
    "plt.rcParams['figure.figsize'] = 15, 3\n",
    "\n",
    "# Set custom color palette\n",
    "palette = ['#ADD8E6', '#FF0000']\n",
    "sns.set_palette(palette)\n",
    "\n",
    "# Plot mslp data divided by label\n",
    "ax = plt.subplot(1, 5, 1)\n",
    "ax.set_title('(a) Mean Sea Level Pressure', fontsize = 10)\n",
    "ax.set_xlabel('mslp (hPa)')\n",
    "ax.set_ylabel('Number of Products')\n",
    "sns.histplot(data = df, x = 'mslp', hue = 'label', legend = False)\n",
    "\n",
    "# Plot 2-m temperature data divided by label\n",
    "ax = plt.subplot(1, 5, 2)\n",
    "ax.set_title('(b) 2-m Temperature', fontsize = 11)\n",
    "ax.set_xlabel('t2m (\\u00b0C)')\n",
    "ax.set_ylabel('Number of Products')\n",
    "sns.histplot(data = df, x = 't2m', hue = 'label', legend = False)\n",
    "\n",
    "# Plot 2-m specific humidity data divided by label\n",
    "ax = plt.subplot(1, 5, 3)\n",
    "ax.set_title('(c) 2-m Specific Humidity', fontsize = 10)\n",
    "ax.set_xlabel('q2m (g/kg)')\n",
    "ax.set_ylabel('Number of Products')\n",
    "sns.histplot(data = df, x = 'q2m', hue = 'label', legend = False)\n",
    "\n",
    "# Plot 2-m relative humidity data divided by label\n",
    "ax = plt.subplot(1, 5, 4)\n",
    "ax.set_title('(d) 2-m Relative Humidity', fontsize = 10)\n",
    "ax.set_xlabel('rh2m (%)')\n",
    "ax.set_ylabel('Number of Products')\n",
    "sns.histplot(data = df, x = 'rh2m', hue = 'label', legend = False)\n",
    "\n",
    "# Plot pwat data divided by label\n",
    "ax = plt.subplot(1, 5, 5)\n",
    "ax.set_title('(e) Precipitable Water', fontsize = 10)\n",
    "ax.set_xlabel('pwat (kg/m\\u00b2)')\n",
    "ax.set_ylabel('Number of Products')\n",
    "sns.histplot(data = df, x = 'pwat', hue = 'label', legend = False)\n",
    "ax.legend(loc='upper left', bbox_to_anchor=(1.05, 1), labels=['Watch', 'MD'])\n",
    "\n",
    "plt.tight_layout()\n",
    "plt.savefig('figure_7.jpg')"
   ]
  }
 ],
 "metadata": {
  "kernelspec": {
   "display_name": "Python [conda env:pyEAE]",
   "language": "python",
   "name": "conda-env-pyEAE-py"
  },
  "language_info": {
   "codemirror_mode": {
    "name": "ipython",
    "version": 3
   },
   "file_extension": ".py",
   "mimetype": "text/x-python",
   "name": "python",
   "nbconvert_exporter": "python",
   "pygments_lexer": "ipython3",
   "version": "3.9.13"
  }
 },
 "nbformat": 4,
 "nbformat_minor": 5
}
