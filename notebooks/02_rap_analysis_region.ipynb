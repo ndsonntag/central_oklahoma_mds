{
 "cells": [
  {
   "cell_type": "markdown",
   "id": "ef2a9018-deb5-4384-ba5e-3fe47eac1640",
   "metadata": {},
   "source": [
    "# Create region to average RAP analysis over\n",
    "\n",
    "#### Need to change location of RAP analysis file output for external use"
   ]
  },
  {
   "cell_type": "markdown",
   "id": "f247aaff-ef88-4945-862b-420e88cf9d1e",
   "metadata": {},
   "source": [
    "# Great circle distance calculation function"
   ]
  },
  {
   "cell_type": "code",
   "execution_count": 1,
   "id": "9d5abec6-534d-4d99-abad-522a5dd0af87",
   "metadata": {
    "tags": []
   },
   "outputs": [],
   "source": [
    "def rap13_great_circle(rap_ds, lat, lon, radius):\n",
    "\n",
    "    # Convert RAP coordinate units and input latitude and longitude to radians\n",
    "    rap_lat = rap_ds.latitude * (np.pi/180)\n",
    "    rap_lon = rap_ds.longitude * (np.pi/180)\n",
    "            \n",
    "    lat, lon = map(radians, [lat, lon])\n",
    "\n",
    "    # Create variable for number of grid points within 60km of input latitude and longitude\n",
    "    num_points = 0\n",
    "    \n",
    "    # Create arrays for grid points within 60km of input latitude and longitude\n",
    "    grid_points_x = []\n",
    "    grid_points_y = []\n",
    "    \n",
    "    # Create array so distance calculation works over entirety of RAP analysis domain\n",
    "    distance = np.zeros((337, 451))\n",
    "        \n",
    "    # Calculate great-circle distance equation in km\n",
    "    for i in range(len(rap_ds.latitude)):\n",
    "        for j in range(len(rap_ds.latitude[i])):\n",
    "            distance[i,j] = 6371 * (acos(sin(lat) * sin(rap_lat[i,j]) + cos(lat) * cos(rap_lat[i,j]) * cos(lon - rap_lon[i,j])))\n",
    "            if distance[i,j] <= radius:\n",
    "                grid_points_y.append(i)\n",
    "                grid_points_x.append(j)\n",
    "                num_points += 1\n",
    "    \n",
    "    # Return desired outputs\n",
    "    return grid_points_x, grid_points_y, num_points"
   ]
  },
  {
   "cell_type": "markdown",
   "id": "804d5655-f287-4bf5-be95-cde2e49fab5f",
   "metadata": {},
   "source": [
    "# Unit test to determine if great circle function works"
   ]
  },
  {
   "cell_type": "code",
   "execution_count": 2,
   "id": "3df9bb3d-3262-4fb2-a86e-4e2c41a8b290",
   "metadata": {},
   "outputs": [],
   "source": [
    "def great_circle_test(test_rap_ds):\n",
    "    '''Test that great circle function generates the correct number of points'''\n",
    "    \n",
    "    # Set lat, lon, radius, and constants (do not edit)\n",
    "    test_num_points = 0\n",
    "    test_lat = 35\n",
    "    test_lon = -100\n",
    "    test_radius = 10\n",
    "    \n",
    "    # Convert RAP coordinate units and input latitude and longitude to radians\n",
    "    test_rap_lat = test_rap_ds.latitude * (np.pi/180)\n",
    "    test_rap_lon = test_rap_ds.longitude * (np.pi/180)\n",
    "    test_lat, test_lon = map(radians, [test_lat, test_lon])\n",
    "    \n",
    "    # Create array so distance calculation works over entirety of RAP analysis domain\n",
    "    test_distance = np.zeros((337, 451))\n",
    "    \n",
    "    # Calculate great-circle distance equation in km\n",
    "    for i in range(len(test_rap_ds.latitude)):\n",
    "        for j in range(len(test_rap_ds.latitude[i])):\n",
    "            test_distance[i,j] = 6371 * (acos(sin(test_lat) * sin(test_rap_lat[i,j]) + cos(test_lat) * cos(test_rap_lat[i,j]) * cos(test_lon - test_rap_lon[i,j])))\n",
    "            if test_distance[i,j] <= test_radius:\n",
    "                test_num_points += 1\n",
    "                \n",
    "    # Output error if calculation produces incorrect output\n",
    "    if (test_num_points == 2):\n",
    "        pass\n",
    "    else:\n",
    "        sys.exit('❌ Error. Calculation not valid. Possible error with RAP grid.')"
   ]
  },
  {
   "cell_type": "markdown",
   "id": "54561c43-51ba-46c8-b135-a5dc1dbc34e5",
   "metadata": {},
   "source": [
    "# Output RAP gird point over user defined radius centered around latitude and longitude"
   ]
  },
  {
   "cell_type": "code",
   "execution_count": 3,
   "id": "e8f033f8-4de9-44bd-b1cc-c9d1884f539b",
   "metadata": {},
   "outputs": [
    {
     "name": "stdout",
     "output_type": "stream",
     "text": [
      "The number of points within the distance of the geographic input in RAP analysis is 65.\n",
      "Point latitude values array (grid_y): [123, 123, 123, 124, 124, 124, 124, 124, 124, 124, 125, 125, 125, 125, 125, 125, 125, 126, 126, 126, 126, 126, 126, 126, 126, 126, 127, 127, 127, 127, 127, 127, 127, 127, 127, 128, 128, 128, 128, 128, 128, 128, 128, 128, 129, 129, 129, 129, 129, 129, 129, 129, 129, 130, 130, 130, 130, 130, 130, 130, 131, 131, 131, 131, 131]\n",
      "Point longitude value array (grid_x): [362, 363, 364, 360, 361, 362, 363, 364, 365, 366, 360, 361, 362, 363, 364, 365, 366, 359, 360, 361, 362, 363, 364, 365, 366, 367, 359, 360, 361, 362, 363, 364, 365, 366, 367, 359, 360, 361, 362, 363, 364, 365, 366, 367, 359, 360, 361, 362, 363, 364, 365, 366, 367, 360, 361, 362, 363, 364, 365, 366, 361, 362, 363, 364, 365]\n"
     ]
    }
   ],
   "source": [
    "import numpy as np\n",
    "import xarray as xr\n",
    "from math import radians, cos, sin, acos, sqrt\n",
    "import urllib.request\n",
    "import sys\n",
    "\n",
    "# Import warnings package to prevent non-critical warnings from displaying\n",
    "import warnings\n",
    "warnings.filterwarnings('ignore', category=UserWarning)\n",
    "\n",
    "# Read in RAP analysis dataset\n",
    "urllib.request.urlretrieve(f\"https://www.ncei.noaa.gov/thredds/fileServer/model-rap130anl-old/201407/20140703/rap_130_20140703_2000_000.grb2\", \n",
    "                                       f\"/home/scratch/nsonntag/eae598/rap_data/rap_130_20140703_2000_000.grb2\")\n",
    "\n",
    "ds = xr.open_dataset(\"/home/scratch/nsonntag/eae598/rap_data/rap_130_20140703_2000_000.grb2\", filter_by_keys=\n",
    "                    {'typeOfLevel': 'heightAboveGround', 'level': 2})\n",
    "\n",
    "# Unit test to make sure RAP analysis grid is not \n",
    "great_circle_test(ds)\n",
    "\n",
    "# Insert latitude and longitude of desired point\n",
    "lat, lon = 34.2727, -77.9455\n",
    "\n",
    "# Run great-circle distance function\n",
    "grid_x, grid_y, num_points = rap13_great_circle(ds, lat, lon, radius=60)\n",
    "\n",
    "# Print outputs\n",
    "print(f\"The number of points within the distance of the geographic input in RAP analysis is {num_points}.\")\n",
    "print(f\"Point latitude values array (grid_y): {grid_y}\")\n",
    "print(f\"Point longitude value array (grid_x): {grid_x}\")"
   ]
  }
 ],
 "metadata": {
  "kernelspec": {
   "display_name": "Python [conda env:pyEAE]",
   "language": "python",
   "name": "conda-env-pyEAE-py"
  },
  "language_info": {
   "codemirror_mode": {
    "name": "ipython",
    "version": 3
   },
   "file_extension": ".py",
   "mimetype": "text/x-python",
   "name": "python",
   "nbconvert_exporter": "python",
   "pygments_lexer": "ipython3",
   "version": "3.9.13"
  }
 },
 "nbformat": 4,
 "nbformat_minor": 5
}
