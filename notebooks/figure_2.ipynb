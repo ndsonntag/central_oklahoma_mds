{
 "cells": [
  {
   "cell_type": "code",
   "execution_count": null,
   "id": "a3d7cfdd-95ae-4c82-bc95-7c948c699813",
   "metadata": {},
   "outputs": [],
   "source": [
    "import numpy as np\n",
    "import pandas as pd\n",
    "import seaborn as sns\n",
    "import matplotlib.pyplot as plt\n",
    "\n",
    "# Read in data file using pandas\n",
    "df = pd.read_csv(\"central_ok_mds_env_FINAL.csv\")\n",
    "\n",
    "# Create baseplot\n",
    "plt.rcParams['figure.figsize'] = 15, 3\n",
    "\n",
    "# Plot year data\n",
    "ax = plt.subplot(1, 4, 1)\n",
    "ax.set_title('(a) Number of Products per Year')\n",
    "ax.set_xlabel('Year')\n",
    "ax.set_ylabel('Number of Products')\n",
    "bins = np.arange(min(df.year), max(df.year + 1) + 1, 1)\n",
    "sns.histplot(data = df, x = 'year', color = 'grey', bins = bins)\n",
    "bin_centers = (bins[:-1] + bins[1:]) / 2\n",
    "plt.xticks(bin_centers, ['2014', '', '2016', '', '2018', '', '2020', '', '2022', '', '2024'])\n",
    "\n",
    "# Plot month data\n",
    "ax = plt.subplot(1, 4, 2)\n",
    "ax.set_title('(b) Number of Products by Month')\n",
    "ax.set_xlabel('Month')\n",
    "ax.set_ylabel('Number of Products')\n",
    "bins = np.arange(min(df.month), max(df.month + 1) + 1, 1)\n",
    "sns.histplot(data = df, x = 'month', color = 'grey', bins = bins)\n",
    "bin_centers = (bins[:-1] + bins[1:]) / 2\n",
    "plt.xticks(bin_centers, ['Jan', '', 'Mar', '', 'May', '', 'Jul', '', 'Sep', '', 'Nov', ''])\n",
    "\n",
    "# Plot day data\n",
    "ax = plt.subplot(1, 4, 3)\n",
    "ax.set_title('(c) Number of Products by Day')\n",
    "ax.set_xlabel('Day')\n",
    "ax.set_ylabel('Number of Products')\n",
    "bins = np.arange(min(df.day), max(df.day + 1) + 1, 1)\n",
    "sns.histplot(data = df, x = 'day', color = 'grey', bins = bins)\n",
    "bin_centers = (bins[:-1] + bins[1:]) / 2\n",
    "plt.xticks(bin_centers, ['', '', '', '', '5', '', '', '', '', '10', '', '', '', '', '15',\n",
    "                        '', '', '', '', '20','', '', '', '', '25', '', '', '', '', '30', ''])\n",
    "# Plot hour data\n",
    "ax = plt.subplot(1, 4, 4)\n",
    "ax.set_title('(d) Number of Products by Hour')\n",
    "ax.set_xlabel('Hour (UTC)')\n",
    "ax.set_ylabel('Number of Products')\n",
    "bins = np.arange(min(df.time), max(df.time + 1) + 1, 1)\n",
    "sns.histplot(data = df, x = 'time', color = 'grey', bins = bins)\n",
    "bin_centers = (bins[:-1] + bins[1:]) / 2\n",
    "plt.xticks(bin_centers, ['0','', '', '', '', '5', '', '', '', '', '10', '', '', '', '', \n",
    "                         '15','', '', '', '', '20','', '', ''])\n",
    "\n",
    "plt.tight_layout()\n",
    "plt.savefig('figure_2.jpg')"
   ]
  }
 ],
 "metadata": {
  "kernelspec": {
   "display_name": "Python [conda env:pyEAE]",
   "language": "python",
   "name": "conda-env-pyEAE-py"
  },
  "language_info": {
   "codemirror_mode": {
    "name": "ipython",
    "version": 3
   },
   "file_extension": ".py",
   "mimetype": "text/x-python",
   "name": "python",
   "nbconvert_exporter": "python",
   "pygments_lexer": "ipython3",
   "version": "3.9.13"
  }
 },
 "nbformat": 4,
 "nbformat_minor": 5
}
