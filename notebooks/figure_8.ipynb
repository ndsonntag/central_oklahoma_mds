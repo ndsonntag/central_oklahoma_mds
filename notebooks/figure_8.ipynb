{
 "cells": [
  {
   "cell_type": "code",
   "execution_count": null,
   "id": "2658512f-86cb-4b75-985f-70991fca0589",
   "metadata": {},
   "outputs": [],
   "source": [
    "import numpy as np\n",
    "import pandas as pd\n",
    "import seaborn as sns\n",
    "import matplotlib.pyplot as plt\n",
    "\n",
    "# Read in data file using pandas\n",
    "df = pd.read_csv(\"central_ok_mds_env_FINAL.csv\")\n",
    "\n",
    "# Create baseplot\n",
    "plt.rcParams['figure.figsize'] = 15, 3\n",
    "\n",
    "# Set custom color palette\n",
    "palette = ['#ADD8E6', '#FF0000']\n",
    "sns.set_palette(palette)\n",
    "\n",
    "# Plot 10-m u-component wind data divided by label\n",
    "ax = plt.subplot(1, 5, 1)\n",
    "ax.set_title('(a) U-Component of 10-m Wind', fontsize = 9)\n",
    "ax.set_xlabel('u10 (m/s)')\n",
    "ax.set_ylabel('Number of Products')\n",
    "sns.histplot(data = df, x = 'u10', hue = 'label', legend = False)\n",
    "\n",
    "# Plot 10-m v-component wind data divided by label\n",
    "ax = plt.subplot(1, 5, 2)\n",
    "ax.set_title('(b) V-Component of 10-m Wind', fontsize = 9)\n",
    "ax.set_xlabel('v10 (m/s)')\n",
    "ax.set_ylabel('Number of Products')\n",
    "sns.histplot(data = df, x = 'v10', hue = 'label', legend = False)\n",
    "\n",
    "# Plot 10-m wind speed data divided by label\n",
    "ax = plt.subplot(1, 5, 3)\n",
    "ax.set_title('(c) 10-m Wind Speed', fontsize = 11)\n",
    "ax.set_xlabel('uv10 (m/s)')\n",
    "ax.set_ylabel('Number of Products')\n",
    "sns.histplot(data = df, x = 'uv10', hue = 'label', legend = False)\n",
    "\n",
    "# Plot lifted condensation level data divided by label\n",
    "ax = plt.subplot(1, 5, 4)\n",
    "ax.set_title('(d) Lifted Condensation Level', fontsize = 10)\n",
    "ax.set_xlabel('lcl (hPa)')\n",
    "ax.set_ylabel('Number of Products')\n",
    "sns.histplot(data = df, x = 'lcl', hue = 'label', legend = False)\n",
    "\n",
    "# Plot 0-6 km bulk shear data divided by label\n",
    "ax = plt.subplot(1, 5, 5)\n",
    "ax.set_title('(e) 0-6 km Bulk Shear', fontsize = 11)\n",
    "ax.set_xlabel('shr0_6 (1/s)')\n",
    "ax.set_ylabel('Number of Products')\n",
    "sns.histplot(data = df, x = 'shr0_6', hue = 'label', legend = False)\n",
    "ax.legend(loc='upper left', bbox_to_anchor=(1.05, 1), labels=['Watch', 'MD'])\n",
    "\n",
    "plt.tight_layout()\n",
    "plt.savefig('figure_8.jpg')"
   ]
  }
 ],
 "metadata": {
  "kernelspec": {
   "display_name": "Python [conda env:pyEAE]",
   "language": "python",
   "name": "conda-env-pyEAE-py"
  },
  "language_info": {
   "codemirror_mode": {
    "name": "ipython",
    "version": 3
   },
   "file_extension": ".py",
   "mimetype": "text/x-python",
   "name": "python",
   "nbconvert_exporter": "python",
   "pygments_lexer": "ipython3",
   "version": "3.9.13"
  }
 },
 "nbformat": 4,
 "nbformat_minor": 5
}
